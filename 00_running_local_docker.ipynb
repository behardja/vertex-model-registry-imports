{
 "cells": [
  {
   "cell_type": "markdown",
   "id": "f3d680f0-02ba-4f57-832c-f635d59c2d8e",
   "metadata": {
    "tags": []
   },
   "source": [
    "# Run a local Docker image on your Workbench environment"
   ]
  },
  {
   "cell_type": "code",
   "execution_count": null,
   "id": "eadcb0c3-fe54-4025-ba32-d95af29b3598",
   "metadata": {},
   "outputs": [],
   "source": [
    "# Image Parameters\n",
    "PROJECT_ID = \"sandbox-401718\"  # @param {type:\"string\"}\n",
    "REGION = \"us-central1\" # @param {type:\"string\"}\n",
    "VERSION=\"latest\" \n",
    "REPO_NAME=\"housing-poc\" # @param {type:\"string\"}\n",
    "JOB_IMAGE_ID=\"housing-poc-image\" # @param {type:\"string\"}\n",
    "\n",
    "# Cloud Storage \n",
    "BUCKET_URI = \"gs://sandbox-401718-us-notebooks/gke-yaml\"  # @param {type:\"string\"}\n",
    "model_file = \"model.pkl\"\n",
    "\n",
    "# Vertex Custom Job parameters\n",
    "SERVICE_ACCOUNT=\"757654702990-compute@developer.gserviceaccount.com\" # @param {type:\"string\"}"
   ]
  },
  {
   "cell_type": "code",
   "execution_count": null,
   "id": "dd9a3229-801c-428c-b76a-5895f4893b06",
   "metadata": {},
   "outputs": [],
   "source": [
    "# Build image\n",
    "! docker build -f ./Dockerfile -t {REGION}-docker.pkg.dev/{PROJECT_ID}/{REPO_NAME}/{JOB_IMAGE_ID}:{VERSION} ."
   ]
  },
  {
   "cell_type": "code",
   "execution_count": null,
   "id": "7c072811-7979-4e79-8745-9cccdf67663c",
   "metadata": {},
   "outputs": [],
   "source": [
    "# # Uncomment to push image to Artifact Registry\n",
    "# ! gcloud auth configure-docker us-central1-docker.pkg.dev --quiet\n",
    "# ! docker push {REGION}-docker.pkg.dev/{PROJECT_ID}/{REPO_NAME}/{JOB_IMAGE_ID}:{VERSION}"
   ]
  },
  {
   "cell_type": "markdown",
   "id": "c9e0e3fb-4865-4ce5-9df6-bb9a03a11082",
   "metadata": {},
   "source": [
    "## Local deployment via docker run"
   ]
  },
  {
   "cell_type": "markdown",
   "id": "c6e30f8a-d71c-472e-a1f1-0373da774fc2",
   "metadata": {},
   "source": [
    "To access the application after running, locate the External IP address associated with this VM.  \n",
    "\n",
    "The address will be: `http://[External-IP]:[port]` <br>\n",
    "Example for FastAPI UI: `http://34.60.253.107:8181/docs`"
   ]
  },
  {
   "cell_type": "code",
   "execution_count": 2,
   "id": "7d15f39f-5249-448a-b3bf-6594f98b17a4",
   "metadata": {
    "tags": []
   },
   "outputs": [
    {
     "name": "stdout",
     "output_type": "stream",
     "text": [
      "REPOSITORY                                                                         TAG         IMAGE ID       CREATED         SIZE\n",
      "us-west2-docker.pkg.dev/sandbox-401718/workbench/vertex-custom-serve               latest      4bc047f8d2b2   6 days ago      665MB\n",
      "us-central1-docker.pkg.dev/sandbox-401718/workbench/vertex-custom-serve            latest      bba12358f003   11 days ago     664MB\n",
      "us-central1-docker.pkg.dev/sandbox-401718/workbench/vertex-custom-serve            <none>      ac89c01777a2   2 weeks ago     664MB\n",
      "us-central1-docker.pkg.dev/sandbox-401718/housing-poc/housing-poc-image            latest      39690de32bb0   7 weeks ago     974MB\n",
      "python                                                                             3.11-slim   2c2c44fb54ac   4 months ago    130MB\n",
      "us-central1-docker.pkg.dev/sandbox-401718/passage-gen-example/passage_gen_gemma2   latest      ff853b0deec2   5 months ago    773MB\n",
      "us-central1-docker.pkg.dev/sandbox-401718/passage-gen-example/passage_gen_gemma2   <none>      de2ba348a4dc   5 months ago    773MB\n",
      "us-central1-docker.pkg.dev/sandbox-401718/passage-gen-example/passage_gen_gemma2   <none>      dc607da2b6af   5 months ago    724MB\n",
      "<none>                                                                             <none>      a482880a5ff1   11 months ago   382MB\n",
      "us-central1-docker.pkg.dev/sandbox-401718/passage-gen-example/passage_gen_image    latest      65d98b504544   11 months ago   702MB\n",
      "python                                                                             3.8-slim    ea6a53a9c642   12 months ago   126MB\n",
      "python                                                                             3.10-slim   797a4d7093b1   12 months ago   128MB\n",
      "python                                                                             3.7-slim    a255ffcb469f   20 months ago   125MB\n"
     ]
    }
   ],
   "source": [
    "! docker image ls "
   ]
  },
  {
   "cell_type": "code",
   "execution_count": null,
   "id": "63d28430-c4b8-4caa-9749-cf734e39ea50",
   "metadata": {},
   "outputs": [
    {
     "name": "stdout",
     "output_type": "stream",
     "text": [
      "INFO:     Started server process [1]\n",
      "INFO:     Waiting for application startup.\n",
      "INFO:     Application startup complete.\n",
      "INFO:     Uvicorn running on http://0.0.0.0:8080 (Press CTRL+C to quit)\n",
      "INFO:     99.55.160.138:55010 - \"GET /docs HTTP/1.1\" 200 OK\n",
      "INFO:     99.55.160.138:55010 - \"GET /openapi.json HTTP/1.1\" 200 OK\n",
      "INFO:     99.55.160.138:55010 - \"GET /docs HTTP/1.1\" 200 OK\n",
      "INFO:     99.55.160.138:55010 - \"GET /openapi.json HTTP/1.1\" 200 OK\n",
      "INFO:     99.55.160.138:55010 - \"GET /docs HTTP/1.1\" 200 OK\n",
      "INFO:     99.55.160.138:55010 - \"GET /openapi.json HTTP/1.1\" 200 OK\n",
      "INFO:     99.55.160.138:55011 - \"GET /docs HTTP/1.1\" 200 OK\n",
      "INFO:     99.55.160.138:55011 - \"GET /openapi.json HTTP/1.1\" 200 OK\n"
     ]
    }
   ],
   "source": [
    "! docker run -p 8181:8080 39690de32bb0"
   ]
  }
 ],
 "metadata": {
  "environment": {
   "kernel": "conda-root-py",
   "name": "workbench-notebooks.m117",
   "type": "gcloud",
   "uri": "us-docker.pkg.dev/deeplearning-platform-release/gcr.io/workbench-notebooks:m117"
  },
  "kernelspec": {
   "display_name": "Python 3 (ipykernel) (Local)",
   "language": "python",
   "name": "conda-root-py"
  },
  "language_info": {
   "codemirror_mode": {
    "name": "ipython",
    "version": 3
   },
   "file_extension": ".py",
   "mimetype": "text/x-python",
   "name": "python",
   "nbconvert_exporter": "python",
   "pygments_lexer": "ipython3",
   "version": "3.10.13"
  }
 },
 "nbformat": 4,
 "nbformat_minor": 5
}
